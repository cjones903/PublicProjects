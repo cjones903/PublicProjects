{
 "cells": [
  {
   "cell_type": "code",
   "execution_count": 1,
   "metadata": {
    "collapsed": false,
    "deletable": true,
    "editable": true
   },
   "outputs": [],
   "source": [
    "%matplotlib inline\n",
    "import matplotlib.pyplot as plt\n",
    "import matplotlib.patches as patches\n",
    "import numpy as np\n",
    "from scipy.spatial.distance import euclidean,cdist\n",
    "from sklearn.metrics.pairwise import paired_euclidean_distances"
   ]
  },
  {
   "cell_type": "markdown",
   "metadata": {
    "deletable": true,
    "editable": true
   },
   "source": [
    "## Create some variables\n"
   ]
  },
  {
   "cell_type": "code",
   "execution_count": 2,
   "metadata": {
    "collapsed": true,
    "deletable": true,
    "editable": true
   },
   "outputs": [],
   "source": [
    "R = 2 ##Length of one side of square\n",
    "r = 1 ##radius of circle"
   ]
  },
  {
   "cell_type": "markdown",
   "metadata": {
    "collapsed": true,
    "deletable": true,
    "editable": true
   },
   "source": [
    "## Define the function that will draw the box and circle... Always nice to see what I'm doing."
   ]
  },
  {
   "cell_type": "code",
   "execution_count": 3,
   "metadata": {
    "collapsed": true,
    "deletable": true,
    "editable": true
   },
   "outputs": [],
   "source": [
    "def makeBoxandCirclePlot(radius,squareSide):\n",
    "    ##Plot the visualization of the box and circle\n",
    "    circle = plt.Circle((0, 0), radius, color='k',fill=False)\n",
    "    box = patches.Rectangle((-radius,-radius),squareSide,squareSide,color='k',fill=False)\n",
    "    return circle,box"
   ]
  },
  {
   "cell_type": "markdown",
   "metadata": {
    "deletable": true,
    "editable": true
   },
   "source": [
    "## Lets see the box and circle"
   ]
  },
  {
   "cell_type": "code",
   "execution_count": 4,
   "metadata": {
    "collapsed": false,
    "deletable": true,
    "editable": true
   },
   "outputs": [
    {
     "data": {
      "text/plain": [
       "(-1.1000000000000001,\n",
       " 1.1000000000000001,\n",
       " -1.1000000000000001,\n",
       " 1.1000000000000001)"
      ]
     },
     "execution_count": 4,
     "metadata": {},
     "output_type": "execute_result"
    },
    {
     "data": {
      "image/png": "[encoded data removed]",
      "text/plain": [
       "<matplotlib.figure.Figure at 0x1089e9908>"
      ]
     },
     "metadata": {},
     "output_type": "display_data"
    }
   ],
   "source": [
    "circle,box = makeBoxandCirclePlot(r,R)\n",
    "fig, ax = plt.subplots()\n",
    "ax.add_patch(circle)\n",
    "ax.add_patch(box)\n",
    "ax.axis('scaled')\n",
    "\n"
   ]
  },
  {
   "cell_type": "markdown",
   "metadata": {
    "deletable": true,
    "editable": true
   },
   "source": [
    "## Define the function that will generate points within the space of the box/circle plot"
   ]
  },
  {
   "cell_type": "code",
   "execution_count": 5,
   "metadata": {
    "collapsed": true,
    "deletable": true,
    "editable": true
   },
   "outputs": [],
   "source": [
    "def generatePoints(n=10):\n",
    "    ##Function to generate some random points in the space of the square\n",
    "    np.random.seed(42)\n",
    "    points = np.vstack((np.random.uniform(-1,1,n),np.random.uniform(-1,1,n)))\n",
    "    return points"
   ]
  },
  {
   "cell_type": "markdown",
   "metadata": {
    "deletable": true,
    "editable": true
   },
   "source": [
    "## Lets generate some points and see what they look like on the circle."
   ]
  },
  {
   "cell_type": "code",
   "execution_count": 6,
   "metadata": {
    "collapsed": false,
    "deletable": true,
    "editable": true
   },
   "outputs": [
    {
     "data": {
      "image/png": "[encoded data removed]",
      "text/plain": [
       "<matplotlib.figure.Figure at 0x1089e9908>"
      ]
     },
     "execution_count": 6,
     "metadata": {},
     "output_type": "execute_result"
    }
   ],
   "source": [
    "points = generatePoints(10)\n",
    "ax.scatter(points[0],points[1],c='k')\n",
    "fig\n"
   ]
  },
  {
   "cell_type": "markdown",
   "metadata": {
    "deletable": true,
    "editable": true
   },
   "source": [
    "## Given that we know the formula for the area of the square is $(R*2)^2$ and the formula for the circle is ${\\pi R^2}$, we can show that the ratio of the area of the circle to the area of the square is $\\pi/4$. We can therefore get an estimate of the value of $\\pi$ by multiplying the ratio of points inside the circle * 4."
   ]
  },
  {
   "cell_type": "markdown",
   "metadata": {
    "deletable": true,
    "editable": true
   },
   "source": [
    "### First, we need a function that can calculate the ratio of points inside the square."
   ]
  },
  {
   "cell_type": "code",
   "execution_count": 7,
   "metadata": {
    "collapsed": true,
    "deletable": true,
    "editable": true
   },
   "outputs": [],
   "source": [
    "def percentInCircle(radius,points,center_x=0,center_y=0):\n",
    "    insidePointCount = 0\n",
    "    for x,y in zip(points[0],points[1]):\n",
    "        if euclidean((center_x,center_y),(x,y)) < radius:\n",
    "            insidePointCount +=1\n",
    "    outsidePoints = len(points[0])-insidePointCount\n",
    "    percent = insidePointCount/(insidePointCount+outsidePoints)\n",
    "    return percent"
   ]
  },
  {
   "cell_type": "markdown",
   "metadata": {
    "deletable": true,
    "editable": true
   },
   "source": [
    "### Lets calculate the percentage of points in the circle and multiply it by 4."
   ]
  },
  {
   "cell_type": "code",
   "execution_count": 8,
   "metadata": {
    "collapsed": false,
    "deletable": true,
    "editable": true
   },
   "outputs": [
    {
     "data": {
      "text/plain": [
       "3.6"
      ]
     },
     "execution_count": 8,
     "metadata": {},
     "output_type": "execute_result"
    }
   ],
   "source": [
    "percentage = percentInCircle(r,points)\n",
    "percentage * 4"
   ]
  },
  {
   "cell_type": "markdown",
   "metadata": {
    "deletable": true,
    "editable": true
   },
   "source": [
    "### So 3.6 ... not too close. I bet if I add more points, we'll get closer. Lets try that."
   ]
  },
  {
   "cell_type": "code",
   "execution_count": 9,
   "metadata": {
    "collapsed": false,
    "deletable": true,
    "editable": true
   },
   "outputs": [],
   "source": [
    "points = generatePoints(100)"
   ]
  },
  {
   "cell_type": "code",
   "execution_count": 10,
   "metadata": {
    "collapsed": false,
    "deletable": true,
    "editable": true
   },
   "outputs": [
    {
     "data": {
      "image/png": "[encoded data removed]",
      "text/plain": [
       "<matplotlib.figure.Figure at 0x1089e9908>"
      ]
     },
     "execution_count": 10,
     "metadata": {},
     "output_type": "execute_result"
    }
   ],
   "source": [
    "ax.scatter(points[0],points[1],c='k')\n",
    "fig"
   ]
  },
  {
   "cell_type": "code",
   "execution_count": 11,
   "metadata": {
    "collapsed": false,
    "deletable": true,
    "editable": true
   },
   "outputs": [
    {
     "data": {
      "text/plain": [
       "3.28"
      ]
     },
     "execution_count": 11,
     "metadata": {},
     "output_type": "execute_result"
    }
   ],
   "source": [
    "percentage = percentInCircle(r,points)\n",
    "percentage * 4"
   ]
  },
  {
   "cell_type": "markdown",
   "metadata": {
    "deletable": true,
    "editable": true
   },
   "source": [
    "### Getting closer. Lets check this out for more points. Maybe we can plot the error vs the number of points used and see how that does. Here's a function that will do that:"
   ]
  },
  {
   "cell_type": "code",
   "execution_count": 12,
   "metadata": {
    "collapsed": false,
    "deletable": true,
    "editable": true
   },
   "outputs": [],
   "source": [
    "def testPiN(pointList):\n",
    "    trueValue = 3.1415\n",
    "    piEstimates = []\n",
    "    averageEstimates = []\n",
    "    Ns = pointList\n",
    "    for N in Ns:\n",
    "        for i in range(0,4):\n",
    "            points=generatePoints(int(N))\n",
    "            pic = percentInCircle(r,points)\n",
    "            piEstimate = pic * 4\n",
    "            piEstimates.append(abs(trueValue-piEstimate))\n",
    "        averageEstimates.append(np.mean(piEstimates))\n",
    "        piEstimates.clear()\n",
    "    return averageEstimates\n"
   ]
  },
  {
   "cell_type": "markdown",
   "metadata": {
    "deletable": true,
    "editable": true
   },
   "source": [
    "### Lets try this out. We will do 10, 100, 1000, 10000, and 100000 points and compare the error as points increase."
   ]
  },
  {
   "cell_type": "code",
   "execution_count": 13,
   "metadata": {
    "collapsed": false,
    "deletable": true,
    "editable": true
   },
   "outputs": [
    {
     "data": {
      "text/plain": [
       "<matplotlib.text.Text at 0x10c2d9588>"
      ]
     },
     "execution_count": 13,
     "metadata": {},
     "output_type": "execute_result"
    },
    {
     "data": {
      "image/png": "[encoded data removed]",
      "text/plain": [
       "<matplotlib.figure.Figure at 0x10c288d68>"
      ]
     },
     "metadata": {},
     "output_type": "display_data"
    }
   ],
   "source": [
    "pointCounts = [10,100,1000,10000,100000]\n",
    "averageError = testPiN(pointCounts)\n",
    "plt.clf()\n",
    "plt.plot(np.log(pointCounts),averageError)\n",
    "plt.xlabel('log(# Points)')\n",
    "plt.ylabel('Error')"
   ]
  },
  {
   "cell_type": "markdown",
   "metadata": {
    "deletable": true,
    "editable": true
   },
   "source": [
    "### So we can see that error decreases as the number of points increases. We could add more points, but it becomes computationally expensive. Lets see how slow it is."
   ]
  },
  {
   "cell_type": "code",
   "execution_count": 14,
   "metadata": {
    "collapsed": false,
    "deletable": true,
    "editable": true
   },
   "outputs": [
    {
     "name": "stdout",
     "output_type": "stream",
     "text": [
      "CPU times: user 10.9 s, sys: 169 ms, total: 11 s\n",
      "Wall time: 11.4 s\n"
     ]
    },
    {
     "data": {
      "text/plain": [
       "[0.45849999999999991,\n",
       " 0.13849999999999962,\n",
       " 0.045500000000000096,\n",
       " 0.0067000000000003723,\n",
       " 0.0026199999999998447]"
      ]
     },
     "execution_count": 14,
     "metadata": {},
     "output_type": "execute_result"
    }
   ],
   "source": [
    "%time testPiN(pointCounts)"
   ]
  },
  {
   "cell_type": "markdown",
   "metadata": {
    "deletable": true,
    "editable": true
   },
   "source": [
    "### So 11s per run. Not terrible, but lets see what we can do to fix that. We'll see about using some vectorization if possible."
   ]
  },
  {
   "cell_type": "code",
   "execution_count": 15,
   "metadata": {
    "collapsed": false,
    "deletable": true,
    "editable": true
   },
   "outputs": [],
   "source": [
    "def percentInCircleVec(radius,points,center_x=0,center_y=0):\n",
    "    centerMatrix = np.vstack(([center_x] * len(points[0]), [center_y] * len(points[1])))\n",
    "    distances = paired_euclidean_distances(points.T,centerMatrix.T)\n",
    "\n",
    "    pointsInCircle = [value for value in distances if value < r]\n",
    "    numPointsInCircle = len(pointsInCircle)/len(points[0])\n",
    "    return(numPointsInCircle)\n",
    "    "
   ]
  },
  {
   "cell_type": "code",
   "execution_count": 16,
   "metadata": {
    "collapsed": false,
    "deletable": true,
    "editable": true
   },
   "outputs": [
    {
     "name": "stdout",
     "output_type": "stream",
     "text": [
      "CPU times: user 6.77 ms, sys: 1.09 ms, total: 7.86 ms\n",
      "Wall time: 10.3 ms\n",
      "CPU times: user 845 µs, sys: 89 µs, total: 934 µs\n",
      "Wall time: 909 µs\n"
     ]
    },
    {
     "data": {
      "text/plain": [
       "0.82"
      ]
     },
     "execution_count": 16,
     "metadata": {},
     "output_type": "execute_result"
    }
   ],
   "source": [
    "%time percentInCircle(r,points)\n",
    "%time percentInCircleVec(r,points)\n",
    "\n"
   ]
  },
  {
   "cell_type": "markdown",
   "metadata": {
    "collapsed": true,
    "deletable": true,
    "editable": true
   },
   "source": [
    "### So it looks like I can get about an 22X speedup by doing some vectorization. Let's rewrite the original function with this vectorized function."
   ]
  },
  {
   "cell_type": "code",
   "execution_count": 17,
   "metadata": {
    "collapsed": false,
    "deletable": true,
    "editable": true
   },
   "outputs": [],
   "source": [
    "def testPiNVec(pointList):\n",
    "    trueValue = 3.1415\n",
    "    piEstimates = []\n",
    "    averageEstimates = []\n",
    "    Ns = pointList\n",
    "    for N in Ns:\n",
    "        for i in range(0,4):\n",
    "            points=generatePoints(int(N))\n",
    "            pic = percentInCircleVec(r,points)\n",
    "            piEstimate = pic * 4\n",
    "            piEstimates.append(abs(trueValue-piEstimate))\n",
    "        averageEstimates.append(np.mean(piEstimates))\n",
    "        piEstimates.clear()\n",
    "    return averageEstimates\n",
    "\n"
   ]
  },
  {
   "cell_type": "code",
   "execution_count": 18,
   "metadata": {
    "collapsed": false
   },
   "outputs": [
    {
     "name": "stdout",
     "output_type": "stream",
     "text": [
      "CPU times: user 251 ms, sys: 13.3 ms, total: 265 ms\n",
      "Wall time: 287 ms\n"
     ]
    },
    {
     "data": {
      "text/plain": [
       "[0.45849999999999991,\n",
       " 0.13849999999999962,\n",
       " 0.045500000000000096,\n",
       " 0.0067000000000003723,\n",
       " 0.0026199999999998447]"
      ]
     },
     "execution_count": 18,
     "metadata": {},
     "output_type": "execute_result"
    }
   ],
   "source": [
    "%time testPiNVec(pointCounts)"
   ]
  },
  {
   "cell_type": "markdown",
   "metadata": {},
   "source": [
    "### So vectorizing the function that calculates whether or not a point is in the circle results in a 40 fold speed-up."
   ]
  },
  {
   "cell_type": "code",
   "execution_count": null,
   "metadata": {
    "collapsed": true
   },
   "outputs": [],
   "source": []
  }
 ],
 "metadata": {
  "kernelspec": {
   "display_name": "Python 3",
   "language": "python",
   "name": "python3"
  },
  "language_info": {
   "codemirror_mode": {
    "name": "ipython",
    "version": 3
   },
   "file_extension": ".py",
   "mimetype": "text/x-python",
   "name": "python",
   "nbconvert_exporter": "python",
   "pygments_lexer": "ipython3",
   "version": "3.6.1"
  }
 },
 "nbformat": 4,
 "nbformat_minor": 2
}
